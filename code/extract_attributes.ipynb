{
 "cells": [
  {
   "cell_type": "code",
   "execution_count": null,
   "metadata": {},
   "outputs": [],
   "source": [
    "import pandas as pd\n",
    "import numpy as np\n",
    "import re, json"
   ]
  },
  {
   "cell_type": "markdown",
   "metadata": {},
   "source": [
    "### Read data & Extract attributes"
   ]
  },
  {
   "cell_type": "code",
   "execution_count": null,
   "metadata": {},
   "outputs": [],
   "source": [
    "# read files: business, review, tip, user\n",
    "business = pd.read_json(\"../data/business_city.json\", lines = True)"
   ]
  },
  {
   "cell_type": "code",
   "execution_count": null,
   "metadata": {},
   "outputs": [],
   "source": [
    "steak_business = business[business[\"categories\"].str.lower().str.contains(\"steakhouse\") == True]\n",
    "steak_business = steak_business[[\"business_id\", \"name\", \"latitude\", \"longitude\", \"stars\", \"attributes\"]]"
   ]
  },
  {
   "cell_type": "code",
   "execution_count": null,
   "metadata": {},
   "outputs": [],
   "source": [
    "# one record contain NA in attributes, remove this record\n",
    "steak_business = steak_business.dropna()\n",
    "# reset index\n",
    "steak_business = steak_business.reset_index().drop(\"index\", axis = 1)"
   ]
  },
  {
   "cell_type": "code",
   "execution_count": null,
   "metadata": {},
   "outputs": [],
   "source": [
    "# extract attributes\n",
    "attributes = []\n",
    "for ind in steak_business.index: \n",
    "    attr = steak_business.loc[ind, \"attributes\"].keys()\n",
    "    attributes.extend(list(attr))\n",
    "\n",
    "attributes = sorted(list(set(attributes)))"
   ]
  },
  {
   "cell_type": "code",
   "execution_count": null,
   "metadata": {},
   "outputs": [],
   "source": [
    "attr_dict = {}\n",
    "for attr in attributes: \n",
    "    attr_dict[attr] = []\n",
    "for ind in steak_business.index:\n",
    "    attribute = steak_business.loc[ind, \"attributes\"]\n",
    "    for attr in attributes: \n",
    "        if attr in attribute.keys(): \n",
    "            attr_dict[attr].append(attribute[attr])\n",
    "        else: \n",
    "            attr_dict[attr].append(np.nan)"
   ]
  },
  {
   "cell_type": "code",
   "execution_count": null,
   "metadata": {},
   "outputs": [],
   "source": [
    "attr_df = pd.DataFrame(attr_dict)\n",
    "steak_attributes = pd.concat([steak_business, attr_df], axis = 1)"
   ]
  },
  {
   "cell_type": "code",
   "execution_count": null,
   "metadata": {},
   "outputs": [],
   "source": [
    "na_num = {}\n",
    "for col in attr_df.columns: \n",
    "    na_num[col] = attr_df[col].isnull().sum()\n",
    "extract_attr = []\n",
    "for attr in list(na_num.keys()): \n",
    "    if na_num[attr] < 35: \n",
    "        extract_attr.append(attr)\n",
    "extract_attr"
   ]
  },
  {
   "cell_type": "code",
   "execution_count": null,
   "metadata": {},
   "outputs": [],
   "source": [
    "# keep attributes with less missing proportion less than 10%\n",
    "steak_attributes = steak_attributes[[\"business_id\", \"name\", \"latitude\", \"longitude\", \"stars\", \"Alcohol\", \n",
    "                                     \"Ambience\", \"BusinessAcceptsCreditCards\", \"BusinessParking\", \"GoodForKids\", \n",
    "                                     \"HasTV\", \"OutdoorSeating\", \"RestaurantsAttire\", \"RestaurantsDelivery\", \n",
    "                                     \"RestaurantsGoodForGroups\", \"RestaurantsPriceRange2\", \n",
    "                                     \"RestaurantsReservations\", \"RestaurantsTakeOut\"]]"
   ]
  },
  {
   "cell_type": "markdown",
   "metadata": {},
   "source": [
    "### Summary of each attributes"
   ]
  },
  {
   "cell_type": "markdown",
   "metadata": {},
   "source": [
    "#### Alcohol"
   ]
  },
  {
   "cell_type": "code",
   "execution_count": null,
   "metadata": {},
   "outputs": [],
   "source": [
    "steak_attributes.Alcohol.value_counts()"
   ]
  },
  {
   "cell_type": "markdown",
   "metadata": {},
   "source": [
    "Most steakhouse businesses provide alcohol. omit!"
   ]
  },
  {
   "cell_type": "markdown",
   "metadata": {},
   "source": [
    "#### BusinessAcceptsCreditCards"
   ]
  },
  {
   "cell_type": "code",
   "execution_count": null,
   "metadata": {},
   "outputs": [],
   "source": [
    "steak_attributes.BusinessAcceptsCreditCards.value_counts()"
   ]
  },
  {
   "cell_type": "markdown",
   "metadata": {},
   "source": [
    "Most steakhouse businesses have BusinessAcceptsCreditCards attribute. omit!"
   ]
  },
  {
   "cell_type": "markdown",
   "metadata": {},
   "source": [
    "#### GoodForKids"
   ]
  },
  {
   "cell_type": "code",
   "execution_count": null,
   "metadata": {},
   "outputs": [],
   "source": [
    "steak_attributes.GoodForKids.value_counts()"
   ]
  },
  {
   "cell_type": "markdown",
   "metadata": {},
   "source": [
    "#### HasTV"
   ]
  },
  {
   "cell_type": "code",
   "execution_count": null,
   "metadata": {},
   "outputs": [],
   "source": [
    "steak_attributes.HasTV.value_counts()\n"
   ]
  },
  {
   "cell_type": "markdown",
   "metadata": {},
   "source": [
    "Most steakhouse businesses have HasTV attribute. omit!"
   ]
  },
  {
   "cell_type": "markdown",
   "metadata": {},
   "source": [
    "#### OutdoorSeating"
   ]
  },
  {
   "cell_type": "code",
   "execution_count": null,
   "metadata": {},
   "outputs": [],
   "source": [
    "steak_attributes.OutdoorSeating.value_counts()"
   ]
  },
  {
   "cell_type": "markdown",
   "metadata": {},
   "source": [
    "#### RestaurantsAttire"
   ]
  },
  {
   "cell_type": "code",
   "execution_count": null,
   "metadata": {},
   "outputs": [],
   "source": [
    "steak_attributes.RestaurantsAttire.value_counts()"
   ]
  },
  {
   "cell_type": "markdown",
   "metadata": {},
   "source": [
    "#### RestaurantsDelivery"
   ]
  },
  {
   "cell_type": "code",
   "execution_count": null,
   "metadata": {},
   "outputs": [],
   "source": [
    "steak_attributes.RestaurantsDelivery.value_counts()"
   ]
  },
  {
   "cell_type": "code",
   "execution_count": null,
   "metadata": {},
   "outputs": [],
   "source": [
    "for deliver, group in steak_attributes.groupby(\"RestaurantsDelivery\"): \n",
    "    print(deliver)\n",
    "    print(group[\"stars\"].value_counts(ascending = True))"
   ]
  },
  {
   "cell_type": "markdown",
   "metadata": {},
   "source": [
    "#### RestaurantsGoodForGroups"
   ]
  },
  {
   "cell_type": "code",
   "execution_count": null,
   "metadata": {},
   "outputs": [],
   "source": [
    "steak_attributes.RestaurantsGoodForGroups.value_counts()"
   ]
  },
  {
   "cell_type": "markdown",
   "metadata": {},
   "source": [
    "Most steakhouse business have RestaurantsGoodForGroups attribute. omit!"
   ]
  },
  {
   "cell_type": "markdown",
   "metadata": {},
   "source": [
    "#### RestaurantsPriceRage2"
   ]
  },
  {
   "cell_type": "code",
   "execution_count": null,
   "metadata": {},
   "outputs": [],
   "source": [
    "steak_attributes.RestaurantsPriceRange2.value_counts()"
   ]
  },
  {
   "cell_type": "markdown",
   "metadata": {},
   "source": [
    "#### RestaruantsReservations"
   ]
  },
  {
   "cell_type": "code",
   "execution_count": null,
   "metadata": {},
   "outputs": [],
   "source": [
    "steak_attributes.RestaurantsReservations.value_counts()"
   ]
  },
  {
   "cell_type": "code",
   "execution_count": null,
   "metadata": {},
   "outputs": [],
   "source": [
    "for reserve, group in steak_attributes.groupby(\"RestaurantsReservations\"): \n",
    "    print(reserve)\n",
    "    print(group[\"stars\"].value_counts(ascending = True))"
   ]
  },
  {
   "cell_type": "markdown",
   "metadata": {},
   "source": [
    "With reservation or not, star distributions are similar for True and False. Not important. omit! "
   ]
  },
  {
   "cell_type": "markdown",
   "metadata": {},
   "source": [
    "#### RestaurantsTakeOut"
   ]
  },
  {
   "cell_type": "code",
   "execution_count": null,
   "metadata": {},
   "outputs": [],
   "source": [
    "steak_attributes.RestaurantsTakeOut.value_counts()"
   ]
  },
  {
   "cell_type": "markdown",
   "metadata": {},
   "source": [
    "Most steakhouse businesses have RestaurantsTakeOut attribute. omit! "
   ]
  },
  {
   "cell_type": "markdown",
   "metadata": {},
   "source": [
    "Only retain Alcohol, Ambience, BusinessParking, GoodForKids, OutdoorSeating, RestaurantsAttire, RestaurantsDelivery and RestaurantsPriceRage2. "
   ]
  },
  {
   "cell_type": "code",
   "execution_count": null,
   "metadata": {},
   "outputs": [],
   "source": [
    "steak_attributes = steak_attributes.drop([\"BusinessAcceptsCreditCards\", \"RestaurantsGoodForGroups\"], axis = 1)"
   ]
  },
  {
   "cell_type": "code",
   "execution_count": null,
   "metadata": {},
   "outputs": [],
   "source": [
    "# Not able to impute missing values, omit imcomplete records\n",
    "steak_mask_amb = steak_attributes.mask(steak_attributes[\"Ambience\"].eq(\"None\"))\n",
    "steak_attributes = steak_mask_amb.dropna().reset_index().drop(\"index\", axis = 1)"
   ]
  },
  {
   "cell_type": "markdown",
   "metadata": {},
   "source": [
    "### Extract information from Ambience"
   ]
  },
  {
   "cell_type": "markdown",
   "metadata": {},
   "source": [
    "expand Ambience information"
   ]
  },
  {
   "cell_type": "code",
   "execution_count": null,
   "metadata": {},
   "outputs": [],
   "source": [
    "ambience = [\"romantic\", \"intimate\", \"classy\", 'upscale', \"touristy\", \"trendy\", \"casual\", \"divey\", \"hipster\"]\n",
    "ambiences = {}\n",
    "\n",
    "for amb in sorted(ambience): \n",
    "    keys = \"Ambience.\" + amb\n",
    "    ambiences[keys] = []\n",
    "    \n",
    "for ind in steak_attributes.index: \n",
    "    amb = steak_attributes.loc[ind, \"Ambience\"]\n",
    "    amb_false = re.sub('False|None', '0', amb)\n",
    "    amb_true = re.sub('True', '1', amb_false)\n",
    "    amb_punc = re.sub('\\'', '\\\"', amb_true)\n",
    "    amb_dict = json.loads(amb_punc)\n",
    "    for amb_type in ambience: \n",
    "        keys = \"Ambience.\" + amb_type\n",
    "        if amb_type in amb_dict.keys(): \n",
    "            ambiences[keys].append(amb_dict[amb_type])\n",
    "        else: \n",
    "            ambiences[keys].append(0)\n",
    "            \n",
    "steak_ambience = pd.DataFrame(ambiences)"
   ]
  },
  {
   "cell_type": "code",
   "execution_count": null,
   "metadata": {},
   "outputs": [],
   "source": [
    "steak_attributes = pd.concat([steak_attributes, steak_ambience], axis = 1)"
   ]
  },
  {
   "cell_type": "markdown",
   "metadata": {},
   "source": [
    "### Extract information from BusinessParking"
   ]
  },
  {
   "cell_type": "markdown",
   "metadata": {},
   "source": [
    "expand BusinessParking information"
   ]
  },
  {
   "cell_type": "code",
   "execution_count": null,
   "metadata": {},
   "outputs": [],
   "source": [
    "steak_attributes.loc[0, \"BusinessParking\"]"
   ]
  },
  {
   "cell_type": "code",
   "execution_count": null,
   "metadata": {},
   "outputs": [],
   "source": [
    "park_type = [\"garage\", \"street\", \"validated\", \"lot\", \"valet\"]\n",
    "parkings = {}\n",
    "\n",
    "for park in sorted(park_type): \n",
    "    keys = \"BusinessParking.\" + park\n",
    "    parkings[keys] = []\n",
    "    \n",
    "for ind in steak_attributes.index: \n",
    "    parking = steak_attributes.loc[ind, \"BusinessParking\"]\n",
    "    if parking != \"None\": \n",
    "        parking_false = re.sub('False|None', '0', parking)\n",
    "        parking_true = re.sub('True', '1', parking_false)\n",
    "        parking_punc = re.sub('\\'', '\\\"', parking_true)\n",
    "        parking_dict = json.loads(parking_punc)\n",
    "        for p in park_type: \n",
    "            keys = \"BusinessParking.\" + p\n",
    "            if p in parking_dict.keys(): \n",
    "                parkings[keys].append(parking_dict[p])\n",
    "            else: \n",
    "                parkings[keys].append(0)\n",
    "    else: \n",
    "        for p in parkings.keys(): \n",
    "            parkings[p].append(0)\n",
    "\n",
    "steak_parking = pd.DataFrame(parkings)"
   ]
  },
  {
   "cell_type": "code",
   "execution_count": null,
   "metadata": {},
   "outputs": [],
   "source": [
    "steak_attributes = pd.concat([steak_attributes, steak_parking], axis = 1)"
   ]
  },
  {
   "cell_type": "code",
   "execution_count": null,
   "metadata": {},
   "outputs": [],
   "source": [
    "# drop original \"Ambience\", \"BusinessParking\"\n",
    "steak_attributes = steak_attributes.drop([\"Ambience\", \"BusinessParking\"], axis = 1)\n",
    "steak_attributes.head()"
   ]
  },
  {
   "cell_type": "code",
   "execution_count": null,
   "metadata": {},
   "outputs": [],
   "source": [
    "steak_attributes.to_csv(\"../data/steak_attributes.csv\", index = False)"
   ]
  },
  {
   "cell_type": "code",
   "execution_count": null,
   "metadata": {},
   "outputs": [],
   "source": []
  }
 ],
 "metadata": {
  "kernelspec": {
   "display_name": "Python 3",
   "language": "python",
   "name": "python3"
  },
  "language_info": {
   "codemirror_mode": {
    "name": "ipython",
    "version": 3
   },
   "file_extension": ".py",
   "mimetype": "text/x-python",
   "name": "python",
   "nbconvert_exporter": "python",
   "pygments_lexer": "ipython3",
   "version": "3.7.4"
  }
 },
 "nbformat": 4,
 "nbformat_minor": 4
}
