{
 "cells": [
  {
   "cell_type": "code",
   "execution_count": null,
   "metadata": {},
   "outputs": [],
   "source": [
    "import pandas as pd"
   ]
  },
  {
   "cell_type": "code",
   "execution_count": null,
   "metadata": {},
   "outputs": [],
   "source": [
    "suggest_attributes = pd.read_csv(\"../data/attributes.csv\")\n",
    "suggest_attributes.head()"
   ]
  },
  {
   "cell_type": "code",
   "execution_count": null,
   "metadata": {},
   "outputs": [],
   "source": [
    "alcohol_suggest = [\"You should at least provide some alcoholic beverage offered in common bars. If condtion permits, provide beer and wine are better. \", \n",
    "                   \"You should only provide beer and wine. \"]\n",
    "kids_suggest = \"You do not need to make great efforts to attract young customers. \"\n",
    "attire_suggest = \"You waiters should dress more formally. Avoid casual attires. \"\n",
    "delivery_sugget = \"Distract your focus on developing delivery service. It's not worthy to invest much on delivery. \"\n",
    "reservation_suggest = \"You should make reservation service available. \"\n",
    "ambience_casual_suggest = \"Try to make the atmosphere more casual. \"\n",
    "ambience_classy_suggest = \"You should create a classier ambience. This will leave an elegant impression on your customers. \""
   ]
  },
  {
   "cell_type": "code",
   "execution_count": null,
   "metadata": {},
   "outputs": [],
   "source": [
    "business_suggests = []\n",
    "attributes = [\"Alcohol\", \"GoodForKids\", \"RestaurantsAttire\", \"RestaurantsDelivery\", \"RestaurantsReservations\", \n",
    "              \"Ambience.casual\", \"Ambience.classy\"]\n",
    "\n",
    "for ind in suggest_attributes.index: \n",
    "    alcohol, kids, attire, delivery, reservation, casual, classy = suggest_attributes.loc[ind, attributes]\n",
    "    suggests = \"\"\n",
    "    \n",
    "    stars = suggest_attributes.loc[ind, \"stars\"]\n",
    "    if stars >= 4: \n",
    "        suggests += \"Excellent Steakhouse! Some suggestions that will make your business better: \" + \"\\n\"\n",
    "    elif stars < 4 and stars >= 3: \n",
    "        suggests += \"Already a good Steakhouse! Several suggestions that will improve your star ratings: \" + \"\\n\"\n",
    "    elif stars < 3 and stars >= 2: \n",
    "        suggests += \"Not a satisfied Steakhouse! Some suggestions that make you a good steakhouse: \" + \"\\n\"\n",
    "    else: \n",
    "        suggests += \"A bad Steakhouse! everal suggestions that will make your business satisfied: \" + \"\\n\"\n",
    "        \n",
    "    # suggest on Alcohol\n",
    "    if alcohol == 0: \n",
    "        suggests += alcohol_suggest[0] + \"\\n\"\n",
    "    elif alcohol == 2: \n",
    "        suggests += alcohol_suggest[1] + \"\\n\"\n",
    "    else: \n",
    "        suggests += \"\"\n",
    "    \n",
    "    # suggest on GoodForKids\n",
    "    if kids == 1: \n",
    "        suggests += kids_suggest + \"\\n\"\n",
    "    \n",
    "    # suggest on RestaurantsAttire\n",
    "    if attire == 0: \n",
    "        suggests += attire_suggest + \"\\n\"\n",
    "    \n",
    "    # suggest on RestaurantsDelivery\n",
    "    if delivery == 1: \n",
    "        suggests += delivery_sugget + \"\\n\"\n",
    "        \n",
    "    # suggest on RestaurantsReservations\n",
    "    if reservation == 0: \n",
    "        suggests += reservation_suggest + \"\\n\"\n",
    "    \n",
    "    # suggest on Ambience: \n",
    "    if casual == 0: \n",
    "        suggests += ambience_casual_suggest + \"\\n\"\n",
    "    if classy == 0: \n",
    "        suggests += ambience_classy_suggest\n",
    "    \n",
    "    business_suggests.append(suggests)"
   ]
  },
  {
   "cell_type": "code",
   "execution_count": null,
   "metadata": {},
   "outputs": [],
   "source": [
    "suggest_attributes[\"Suggestions\"] = pd.Series(business_suggests)\n",
    "# suggest_attributes.head()"
   ]
  },
  {
   "cell_type": "code",
   "execution_count": null,
   "metadata": {},
   "outputs": [],
   "source": [
    "suggest_attributes.to_csv(\"../data/suggestion_on_attributes.csv\", index = False)"
   ]
  },
  {
   "cell_type": "code",
   "execution_count": null,
   "metadata": {},
   "outputs": [],
   "source": []
  }
 ],
 "metadata": {
  "kernelspec": {
   "display_name": "Python 3",
   "language": "python",
   "name": "python3"
  },
  "language_info": {
   "codemirror_mode": {
    "name": "ipython",
    "version": 3
   },
   "file_extension": ".py",
   "mimetype": "text/x-python",
   "name": "python",
   "nbconvert_exporter": "python",
   "pygments_lexer": "ipython3",
   "version": "3.7.4"
  }
 },
 "nbformat": 4,
 "nbformat_minor": 4
}
