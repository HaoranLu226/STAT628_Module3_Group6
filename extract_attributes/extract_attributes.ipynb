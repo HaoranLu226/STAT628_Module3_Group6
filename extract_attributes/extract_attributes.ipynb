{
 "cells": [
  {
   "cell_type": "code",
   "execution_count": 1,
   "metadata": {},
   "outputs": [],
   "source": [
    "import pandas as pd"
   ]
  },
  {
   "cell_type": "code",
   "execution_count": 2,
   "metadata": {},
   "outputs": [],
   "source": [
    "# read files: business, review, tip, user\n",
    "business = pd.read_json(\"../data/business_city.json\", lines = True)\n",
    "review = pd.read_json(\"../data/review_city.json\", lines = True)\n",
    "tip = pd.read_json(\"../data/tip_city.json\", lines = True)\n",
    "user = pd.read_json(\"../data/user_city.json\", lines = True)"
   ]
  },
  {
   "cell_type": "code",
   "execution_count": 3,
   "metadata": {},
   "outputs": [
    {
     "data": {
      "text/html": [
       "<div>\n",
       "<style scoped>\n",
       "    .dataframe tbody tr th:only-of-type {\n",
       "        vertical-align: middle;\n",
       "    }\n",
       "\n",
       "    .dataframe tbody tr th {\n",
       "        vertical-align: top;\n",
       "    }\n",
       "\n",
       "    .dataframe thead th {\n",
       "        text-align: right;\n",
       "    }\n",
       "</style>\n",
       "<table border=\"1\" class=\"dataframe\">\n",
       "  <thead>\n",
       "    <tr style=\"text-align: right;\">\n",
       "      <th></th>\n",
       "      <th>business_id</th>\n",
       "      <th>name</th>\n",
       "      <th>address</th>\n",
       "      <th>city</th>\n",
       "      <th>state</th>\n",
       "      <th>postal_code</th>\n",
       "      <th>latitude</th>\n",
       "      <th>longitude</th>\n",
       "      <th>stars</th>\n",
       "      <th>review_count</th>\n",
       "      <th>is_open</th>\n",
       "      <th>attributes</th>\n",
       "      <th>categories</th>\n",
       "      <th>hours</th>\n",
       "    </tr>\n",
       "  </thead>\n",
       "  <tbody>\n",
       "    <tr>\n",
       "      <td>0</td>\n",
       "      <td>pQeaRpvuhoEqudo3uymHIQ</td>\n",
       "      <td>The Empanadas House</td>\n",
       "      <td>404 E Green St</td>\n",
       "      <td>Champaign</td>\n",
       "      <td>IL</td>\n",
       "      <td>61820</td>\n",
       "      <td>40.110446</td>\n",
       "      <td>-88.233073</td>\n",
       "      <td>4.5</td>\n",
       "      <td>5</td>\n",
       "      <td>1</td>\n",
       "      <td>{'RestaurantsAttire': 'u'casual'', 'Restaurant...</td>\n",
       "      <td>Ethnic Food, Food Trucks, Specialty Food, Impo...</td>\n",
       "      <td>{'Monday': '11:30-14:30', 'Tuesday': '11:30-14...</td>\n",
       "    </tr>\n",
       "    <tr>\n",
       "      <td>1</td>\n",
       "      <td>7Dv4_HAxsxvadEsT5fxQBg</td>\n",
       "      <td>Dependable Brakes &amp; Exhaust</td>\n",
       "      <td>1110 Saw Mill Run Blvd</td>\n",
       "      <td>Pittsburgh</td>\n",
       "      <td>PA</td>\n",
       "      <td>15226</td>\n",
       "      <td>40.406667</td>\n",
       "      <td>-80.004450</td>\n",
       "      <td>5.0</td>\n",
       "      <td>5</td>\n",
       "      <td>1</td>\n",
       "      <td>{'BusinessAcceptsCreditCards': 'True'}</td>\n",
       "      <td>Automotive, Auto Repair</td>\n",
       "      <td>{'Monday': '8:0-17:0', 'Tuesday': '8:0-17:0', ...</td>\n",
       "    </tr>\n",
       "    <tr>\n",
       "      <td>2</td>\n",
       "      <td>M_guz7Dj7hX0evS672wIwA</td>\n",
       "      <td>Chocolate Shoppe Ice Cream</td>\n",
       "      <td>2831 Parmenter St</td>\n",
       "      <td>Middleton</td>\n",
       "      <td>WI</td>\n",
       "      <td>53562</td>\n",
       "      <td>43.105310</td>\n",
       "      <td>-89.510142</td>\n",
       "      <td>3.5</td>\n",
       "      <td>6</td>\n",
       "      <td>1</td>\n",
       "      <td>{'BikeParking': 'True', 'Caters': 'True', 'Whe...</td>\n",
       "      <td>Desserts, Food, Ice Cream &amp; Frozen Yogurt</td>\n",
       "      <td>{'Monday': '0:0-0:0', 'Tuesday': '11:0-21:0', ...</td>\n",
       "    </tr>\n",
       "    <tr>\n",
       "      <td>3</td>\n",
       "      <td>03x6ZlJ7s39DHqfTJU1Ecg</td>\n",
       "      <td>Beechmont Country Club</td>\n",
       "      <td>29600 Chagrin Blvd</td>\n",
       "      <td>Beachwood</td>\n",
       "      <td>OH</td>\n",
       "      <td>44122</td>\n",
       "      <td>41.461448</td>\n",
       "      <td>-81.470127</td>\n",
       "      <td>4.5</td>\n",
       "      <td>7</td>\n",
       "      <td>1</td>\n",
       "      <td>{'GoodForKids': 'True', 'BusinessAcceptsCredit...</td>\n",
       "      <td>Event Planning &amp; Services, Venues &amp; Event Spac...</td>\n",
       "      <td>None</td>\n",
       "    </tr>\n",
       "    <tr>\n",
       "      <td>4</td>\n",
       "      <td>_4Oe9V-qTpU5iemM9bphlA</td>\n",
       "      <td>Goodyear Auto Service Center</td>\n",
       "      <td>800 Fort Duquesne Blvd, Ste 1</td>\n",
       "      <td>Pittsburgh</td>\n",
       "      <td>PA</td>\n",
       "      <td>15222</td>\n",
       "      <td>40.444614</td>\n",
       "      <td>-79.999344</td>\n",
       "      <td>3.5</td>\n",
       "      <td>12</td>\n",
       "      <td>1</td>\n",
       "      <td>{'BusinessAcceptsCreditCards': 'True'}</td>\n",
       "      <td>Oil Change Stations, Auto Repair, Automotive, ...</td>\n",
       "      <td>{'Monday': '7:0-18:0', 'Tuesday': '7:0-18:0', ...</td>\n",
       "    </tr>\n",
       "  </tbody>\n",
       "</table>\n",
       "</div>"
      ],
      "text/plain": [
       "              business_id                          name  \\\n",
       "0  pQeaRpvuhoEqudo3uymHIQ           The Empanadas House   \n",
       "1  7Dv4_HAxsxvadEsT5fxQBg   Dependable Brakes & Exhaust   \n",
       "2  M_guz7Dj7hX0evS672wIwA    Chocolate Shoppe Ice Cream   \n",
       "3  03x6ZlJ7s39DHqfTJU1Ecg        Beechmont Country Club   \n",
       "4  _4Oe9V-qTpU5iemM9bphlA  Goodyear Auto Service Center   \n",
       "\n",
       "                         address        city state postal_code   latitude  \\\n",
       "0                 404 E Green St   Champaign    IL       61820  40.110446   \n",
       "1         1110 Saw Mill Run Blvd  Pittsburgh    PA       15226  40.406667   \n",
       "2              2831 Parmenter St   Middleton    WI       53562  43.105310   \n",
       "3             29600 Chagrin Blvd   Beachwood    OH       44122  41.461448   \n",
       "4  800 Fort Duquesne Blvd, Ste 1  Pittsburgh    PA       15222  40.444614   \n",
       "\n",
       "   longitude  stars  review_count  is_open  \\\n",
       "0 -88.233073    4.5             5        1   \n",
       "1 -80.004450    5.0             5        1   \n",
       "2 -89.510142    3.5             6        1   \n",
       "3 -81.470127    4.5             7        1   \n",
       "4 -79.999344    3.5            12        1   \n",
       "\n",
       "                                          attributes  \\\n",
       "0  {'RestaurantsAttire': 'u'casual'', 'Restaurant...   \n",
       "1             {'BusinessAcceptsCreditCards': 'True'}   \n",
       "2  {'BikeParking': 'True', 'Caters': 'True', 'Whe...   \n",
       "3  {'GoodForKids': 'True', 'BusinessAcceptsCredit...   \n",
       "4             {'BusinessAcceptsCreditCards': 'True'}   \n",
       "\n",
       "                                          categories  \\\n",
       "0  Ethnic Food, Food Trucks, Specialty Food, Impo...   \n",
       "1                            Automotive, Auto Repair   \n",
       "2          Desserts, Food, Ice Cream & Frozen Yogurt   \n",
       "3  Event Planning & Services, Venues & Event Spac...   \n",
       "4  Oil Change Stations, Auto Repair, Automotive, ...   \n",
       "\n",
       "                                               hours  \n",
       "0  {'Monday': '11:30-14:30', 'Tuesday': '11:30-14...  \n",
       "1  {'Monday': '8:0-17:0', 'Tuesday': '8:0-17:0', ...  \n",
       "2  {'Monday': '0:0-0:0', 'Tuesday': '11:0-21:0', ...  \n",
       "3                                               None  \n",
       "4  {'Monday': '7:0-18:0', 'Tuesday': '7:0-18:0', ...  "
      ]
     },
     "execution_count": 3,
     "metadata": {},
     "output_type": "execute_result"
    }
   ],
   "source": [
    "business.head()"
   ]
  },
  {
   "cell_type": "code",
   "execution_count": 73,
   "metadata": {},
   "outputs": [],
   "source": [
    "attr_dict = {\"NoiseLevel\": [], \"BusinessParking\": [], \"BusinessAcceptsCreditCards\": [], \"RestaurantsPriceRange2\": [], \n",
    "             \"RestaurantsDelivery\": [], \"OutdoorSeating\": [], \"ByAppointmentOnly\": [], \"GoodForKids\": []}\n",
    "for ind in range(len(business)):\n",
    "    attr = business.loc[ind, \"attributes\"]\n",
    "    if attr == None: \n",
    "        for attribute in attr_dict.keys(): \n",
    "            attr_dict[attribute].append(\"NaN\")\n",
    "    else: \n",
    "        attr_key = attr.keys()\n",
    "        for attribute in attr_dict.keys(): \n",
    "            if attribute in attr_key: \n",
    "                attr_dict[attribute].append(attr[attribute])\n",
    "            else: \n",
    "                attr_dict[attribute].append(\"NaN\")"
   ]
  },
  {
   "cell_type": "code",
   "execution_count": 87,
   "metadata": {
    "scrolled": false
   },
   "outputs": [
    {
     "data": {
      "text/html": [
       "<div>\n",
       "<style scoped>\n",
       "    .dataframe tbody tr th:only-of-type {\n",
       "        vertical-align: middle;\n",
       "    }\n",
       "\n",
       "    .dataframe tbody tr th {\n",
       "        vertical-align: top;\n",
       "    }\n",
       "\n",
       "    .dataframe thead th {\n",
       "        text-align: right;\n",
       "    }\n",
       "</style>\n",
       "<table border=\"1\" class=\"dataframe\">\n",
       "  <thead>\n",
       "    <tr style=\"text-align: right;\">\n",
       "      <th></th>\n",
       "      <th>stars</th>\n",
       "      <th>NoiseLevel</th>\n",
       "      <th>BusinessParking</th>\n",
       "      <th>BusinessAcceptsCreditCards</th>\n",
       "      <th>RestaurantsPriceRange2</th>\n",
       "      <th>RestaurantsDelivery</th>\n",
       "      <th>OutdoorSeating</th>\n",
       "      <th>ByAppointmentOnly</th>\n",
       "      <th>GoodForKids</th>\n",
       "    </tr>\n",
       "  </thead>\n",
       "  <tbody>\n",
       "    <tr>\n",
       "      <td>0</td>\n",
       "      <td>4.5</td>\n",
       "      <td>u'quiet'</td>\n",
       "      <td>None</td>\n",
       "      <td>True</td>\n",
       "      <td>1</td>\n",
       "      <td>True</td>\n",
       "      <td>False</td>\n",
       "      <td>False</td>\n",
       "      <td>False</td>\n",
       "    </tr>\n",
       "    <tr>\n",
       "      <td>1</td>\n",
       "      <td>5.0</td>\n",
       "      <td>NaN</td>\n",
       "      <td>NaN</td>\n",
       "      <td>True</td>\n",
       "      <td>NaN</td>\n",
       "      <td>NaN</td>\n",
       "      <td>NaN</td>\n",
       "      <td>NaN</td>\n",
       "      <td>NaN</td>\n",
       "    </tr>\n",
       "    <tr>\n",
       "      <td>2</td>\n",
       "      <td>3.5</td>\n",
       "      <td>NaN</td>\n",
       "      <td>{'garage': False, 'street': True, 'validated':...</td>\n",
       "      <td>True</td>\n",
       "      <td>1</td>\n",
       "      <td>NaN</td>\n",
       "      <td>NaN</td>\n",
       "      <td>NaN</td>\n",
       "      <td>NaN</td>\n",
       "    </tr>\n",
       "    <tr>\n",
       "      <td>3</td>\n",
       "      <td>4.5</td>\n",
       "      <td>NaN</td>\n",
       "      <td>NaN</td>\n",
       "      <td>False</td>\n",
       "      <td>NaN</td>\n",
       "      <td>NaN</td>\n",
       "      <td>NaN</td>\n",
       "      <td>NaN</td>\n",
       "      <td>True</td>\n",
       "    </tr>\n",
       "    <tr>\n",
       "      <td>4</td>\n",
       "      <td>3.5</td>\n",
       "      <td>NaN</td>\n",
       "      <td>NaN</td>\n",
       "      <td>True</td>\n",
       "      <td>NaN</td>\n",
       "      <td>NaN</td>\n",
       "      <td>NaN</td>\n",
       "      <td>NaN</td>\n",
       "      <td>NaN</td>\n",
       "    </tr>\n",
       "    <tr>\n",
       "      <td>...</td>\n",
       "      <td>...</td>\n",
       "      <td>...</td>\n",
       "      <td>...</td>\n",
       "      <td>...</td>\n",
       "      <td>...</td>\n",
       "      <td>...</td>\n",
       "      <td>...</td>\n",
       "      <td>...</td>\n",
       "      <td>...</td>\n",
       "    </tr>\n",
       "    <tr>\n",
       "      <td>36322</td>\n",
       "      <td>2.0</td>\n",
       "      <td>NaN</td>\n",
       "      <td>{'garage': False, 'street': False, 'validated'...</td>\n",
       "      <td>True</td>\n",
       "      <td>2</td>\n",
       "      <td>NaN</td>\n",
       "      <td>NaN</td>\n",
       "      <td>NaN</td>\n",
       "      <td>NaN</td>\n",
       "    </tr>\n",
       "    <tr>\n",
       "      <td>36323</td>\n",
       "      <td>2.5</td>\n",
       "      <td>u'very_loud'</td>\n",
       "      <td>{'garage': False, 'street': False, 'validated'...</td>\n",
       "      <td>True</td>\n",
       "      <td>4</td>\n",
       "      <td>True</td>\n",
       "      <td>False</td>\n",
       "      <td>NaN</td>\n",
       "      <td>True</td>\n",
       "    </tr>\n",
       "    <tr>\n",
       "      <td>36324</td>\n",
       "      <td>4.0</td>\n",
       "      <td>NaN</td>\n",
       "      <td>NaN</td>\n",
       "      <td>True</td>\n",
       "      <td>NaN</td>\n",
       "      <td>False</td>\n",
       "      <td>False</td>\n",
       "      <td>False</td>\n",
       "      <td>True</td>\n",
       "    </tr>\n",
       "    <tr>\n",
       "      <td>36325</td>\n",
       "      <td>4.0</td>\n",
       "      <td>u'average'</td>\n",
       "      <td>{'garage': False, 'street': True, 'validated':...</td>\n",
       "      <td>True</td>\n",
       "      <td>2</td>\n",
       "      <td>False</td>\n",
       "      <td>True</td>\n",
       "      <td>NaN</td>\n",
       "      <td>False</td>\n",
       "    </tr>\n",
       "    <tr>\n",
       "      <td>36326</td>\n",
       "      <td>3.0</td>\n",
       "      <td>u'average'</td>\n",
       "      <td>{'garage': False, 'street': False, 'validated'...</td>\n",
       "      <td>True</td>\n",
       "      <td>2</td>\n",
       "      <td>True</td>\n",
       "      <td>NaN</td>\n",
       "      <td>NaN</td>\n",
       "      <td>NaN</td>\n",
       "    </tr>\n",
       "  </tbody>\n",
       "</table>\n",
       "<p>36327 rows × 9 columns</p>\n",
       "</div>"
      ],
      "text/plain": [
       "       stars    NoiseLevel                                    BusinessParking  \\\n",
       "0        4.5      u'quiet'                                               None   \n",
       "1        5.0           NaN                                                NaN   \n",
       "2        3.5           NaN  {'garage': False, 'street': True, 'validated':...   \n",
       "3        4.5           NaN                                                NaN   \n",
       "4        3.5           NaN                                                NaN   \n",
       "...      ...           ...                                                ...   \n",
       "36322    2.0           NaN  {'garage': False, 'street': False, 'validated'...   \n",
       "36323    2.5  u'very_loud'  {'garage': False, 'street': False, 'validated'...   \n",
       "36324    4.0           NaN                                                NaN   \n",
       "36325    4.0    u'average'  {'garage': False, 'street': True, 'validated':...   \n",
       "36326    3.0    u'average'  {'garage': False, 'street': False, 'validated'...   \n",
       "\n",
       "      BusinessAcceptsCreditCards RestaurantsPriceRange2 RestaurantsDelivery  \\\n",
       "0                           True                      1                True   \n",
       "1                           True                    NaN                 NaN   \n",
       "2                           True                      1                 NaN   \n",
       "3                          False                    NaN                 NaN   \n",
       "4                           True                    NaN                 NaN   \n",
       "...                          ...                    ...                 ...   \n",
       "36322                       True                      2                 NaN   \n",
       "36323                       True                      4                True   \n",
       "36324                       True                    NaN               False   \n",
       "36325                       True                      2               False   \n",
       "36326                       True                      2                True   \n",
       "\n",
       "      OutdoorSeating ByAppointmentOnly GoodForKids  \n",
       "0              False             False       False  \n",
       "1                NaN               NaN         NaN  \n",
       "2                NaN               NaN         NaN  \n",
       "3                NaN               NaN        True  \n",
       "4                NaN               NaN         NaN  \n",
       "...              ...               ...         ...  \n",
       "36322            NaN               NaN         NaN  \n",
       "36323          False               NaN        True  \n",
       "36324          False             False        True  \n",
       "36325           True               NaN       False  \n",
       "36326            NaN               NaN         NaN  \n",
       "\n",
       "[36327 rows x 9 columns]"
      ]
     },
     "execution_count": 87,
     "metadata": {},
     "output_type": "execute_result"
    }
   ],
   "source": [
    "attr_df = pd.DataFrame(attr_dict)\n",
    "attr_df.insert(loc = 0, column = \"stars\", value = business[\"stars\"])\n",
    "attr_df"
   ]
  },
  {
   "cell_type": "code",
   "execution_count": 88,
   "metadata": {},
   "outputs": [],
   "source": [
    "attr_df.to_csv(\"../data/extract_attributes.csv\", index = False)"
   ]
  },
  {
   "cell_type": "code",
   "execution_count": 76,
   "metadata": {},
   "outputs": [
    {
     "data": {
      "text/plain": [
       "27363"
      ]
     },
     "execution_count": 76,
     "metadata": {},
     "output_type": "execute_result"
    }
   ],
   "source": [
    "sum(attr_df[\"NoiseLevel\"] == \"NaN\")"
   ]
  },
  {
   "cell_type": "code",
   "execution_count": 77,
   "metadata": {},
   "outputs": [
    {
     "data": {
      "text/plain": [
       "14771"
      ]
     },
     "execution_count": 77,
     "metadata": {},
     "output_type": "execute_result"
    }
   ],
   "source": [
    "sum(attr_df[\"BusinessParking\"] == \"NaN\")"
   ]
  },
  {
   "cell_type": "code",
   "execution_count": 78,
   "metadata": {},
   "outputs": [
    {
     "data": {
      "text/plain": [
       "7778"
      ]
     },
     "execution_count": 78,
     "metadata": {},
     "output_type": "execute_result"
    }
   ],
   "source": [
    "sum(attr_df[\"BusinessAcceptsCreditCards\"] == \"NaN\")"
   ]
  },
  {
   "cell_type": "code",
   "execution_count": 79,
   "metadata": {},
   "outputs": [
    {
     "data": {
      "text/plain": [
       "15306"
      ]
     },
     "execution_count": 79,
     "metadata": {},
     "output_type": "execute_result"
    }
   ],
   "source": [
    "sum(attr_df[\"RestaurantsPriceRange2\"] == \"NaN\")"
   ]
  },
  {
   "cell_type": "code",
   "execution_count": 80,
   "metadata": {},
   "outputs": [
    {
     "data": {
      "text/plain": [
       "24687"
      ]
     },
     "execution_count": 80,
     "metadata": {},
     "output_type": "execute_result"
    }
   ],
   "source": [
    "sum(attr_df[\"RestaurantsDelivery\"] == \"NaN\")"
   ]
  },
  {
   "cell_type": "code",
   "execution_count": 81,
   "metadata": {},
   "outputs": [
    {
     "data": {
      "text/plain": [
       "24960"
      ]
     },
     "execution_count": 81,
     "metadata": {},
     "output_type": "execute_result"
    }
   ],
   "source": [
    "sum(attr_df[\"OutdoorSeating\"] == \"NaN\")"
   ]
  },
  {
   "cell_type": "code",
   "execution_count": 82,
   "metadata": {},
   "outputs": [
    {
     "data": {
      "text/plain": [
       "28058"
      ]
     },
     "execution_count": 82,
     "metadata": {},
     "output_type": "execute_result"
    }
   ],
   "source": [
    "sum(attr_df[\"ByAppointmentOnly\"] == \"NaN\")"
   ]
  },
  {
   "cell_type": "code",
   "execution_count": 83,
   "metadata": {},
   "outputs": [
    {
     "data": {
      "text/plain": [
       "23200"
      ]
     },
     "execution_count": 83,
     "metadata": {},
     "output_type": "execute_result"
    }
   ],
   "source": [
    "sum(attr_df[\"GoodForKids\"] == \"NaN\")"
   ]
  },
  {
   "cell_type": "code",
   "execution_count": null,
   "metadata": {},
   "outputs": [],
   "source": []
  }
 ],
 "metadata": {
  "kernelspec": {
   "display_name": "Python 3",
   "language": "python",
   "name": "python3"
  },
  "language_info": {
   "codemirror_mode": {
    "name": "ipython",
    "version": 3
   },
   "file_extension": ".py",
   "mimetype": "text/x-python",
   "name": "python",
   "nbconvert_exporter": "python",
   "pygments_lexer": "ipython3",
   "version": "3.7.4"
  }
 },
 "nbformat": 4,
 "nbformat_minor": 2
}
